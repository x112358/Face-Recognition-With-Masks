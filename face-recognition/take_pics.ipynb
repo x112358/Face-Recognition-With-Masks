{
 "cells": [
  {
   "cell_type": "code",
   "execution_count": 1,
   "metadata": {},
   "outputs": [],
   "source": [
    "import cv2\n",
    " \n",
    "cap=cv2.VideoCapture(0)\n",
    "i=10\n",
    "while(1):\n",
    "    ret ,frame = cap.read()\n",
    "    k=cv2.waitKey(1)\n",
    "    if k==ord('Z') or k==ord('z'):\n",
    "        break\n",
    "    elif k==ord('s') or k==ord('S'):\n",
    "        cv2.imwrite('data/pic/Lee/'+str(i)+'.jpg',frame)\n",
    "        i+=1\n",
    "    cv2.imshow(\"capture\", frame)\n",
    "cap.release()\n",
    "cv2.destroyAllWindows()"
   ]
  },
  {
   "cell_type": "code",
   "execution_count": null,
   "metadata": {},
   "outputs": [],
   "source": []
  }
 ],
 "metadata": {
  "kernelspec": {
   "display_name": "Python 3",
   "language": "python",
   "name": "python3"
  },
  "language_info": {
   "codemirror_mode": {
    "name": "ipython",
    "version": 3
   },
   "file_extension": ".py",
   "mimetype": "text/x-python",
   "name": "python",
   "nbconvert_exporter": "python",
   "pygments_lexer": "ipython3",
   "version": "3.7.9"
  }
 },
 "nbformat": 4,
 "nbformat_minor": 4
}
