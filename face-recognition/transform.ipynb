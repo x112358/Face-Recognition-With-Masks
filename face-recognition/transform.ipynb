{
 "cells": [
  {
   "cell_type": "code",
   "execution_count": 1,
   "metadata": {},
   "outputs": [],
   "source": [
    "import sys\n",
    "import os\n",
    "import pandas as pd"
   ]
  },
  {
   "cell_type": "code",
   "execution_count": 2,
   "metadata": {
    "scrolled": true
   },
   "outputs": [
    {
     "name": "stdout",
     "output_type": "stream",
     "text": [
      "[['A.J. Buckley', 'NULL', '0'], ['A.R. Rahman', 'NULL', '0'], ['Aamir Khan', 'NULL', '0'], ['LEE', '2021/06/12, 15:36:15', '0'], ['Lai', 'NULL', '0'], ['Tsai', 'NULL', '0'], ['alan walker', 'NULL', '0'], ['alex', 'NULL', '0'], ['trump', 'NULL', '0']]\n"
     ]
    }
   ],
   "source": [
    "f = open('tem.txt')\n",
    "a = list(f)\n",
    "a = [x.strip() for x in a]\n",
    "total = len(a)//3\n",
    "all = []\n",
    "record = 0\n",
    "for i in range(total):\n",
    "    all.append([])\n",
    "    for j in range(0,3):\n",
    "        a[record].replace(\"\\n\",\"\")\n",
    "        all[i].append(a[record])\n",
    "        record+=1\n",
    "print(all)"
   ]
  },
  {
   "cell_type": "code",
   "execution_count": 5,
   "metadata": {},
   "outputs": [
    {
     "name": "stdout",
     "output_type": "stream",
     "text": [
      "20210612\n"
     ]
    }
   ],
   "source": [
    "import time\n",
    "t = time.localtime()\n",
    "date = time.strftime(\"%Y%m%d\",t)\n",
    "print(date)"
   ]
  },
  {
   "cell_type": "code",
   "execution_count": 6,
   "metadata": {},
   "outputs": [
    {
     "name": "stdout",
     "output_type": "stream",
     "text": [
      "           name                  time with_mask\n",
      "0  A.J. Buckley                  NULL         0\n",
      "1   A.R. Rahman                  NULL         0\n",
      "2    Aamir Khan                  NULL         0\n",
      "3           LEE  2021/06/12, 15:36:15         0\n",
      "4           Lai                  NULL         0\n",
      "5          Tsai                  NULL         0\n",
      "6   alan walker                  NULL         0\n",
      "7          alex                  NULL         0\n",
      "8         trump                  NULL         0\n"
     ]
    }
   ],
   "source": [
    "name = ['name','time','with_mask']\n",
    "test = pd.DataFrame(columns=name,data=all)\n",
    "print(test)\n",
    "test.to_csv(date+'.csv',encoding='gbk')"
   ]
  },
  {
   "cell_type": "code",
   "execution_count": null,
   "metadata": {},
   "outputs": [],
   "source": []
  }
 ],
 "metadata": {
  "kernelspec": {
   "display_name": "Python 3",
   "language": "python",
   "name": "python3"
  },
  "language_info": {
   "codemirror_mode": {
    "name": "ipython",
    "version": 3
   },
   "file_extension": ".py",
   "mimetype": "text/x-python",
   "name": "python",
   "nbconvert_exporter": "python",
   "pygments_lexer": "ipython3",
   "version": "3.7.4"
  }
 },
 "nbformat": 4,
 "nbformat_minor": 2
}
