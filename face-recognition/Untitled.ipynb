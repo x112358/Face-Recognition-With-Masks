{
 "cells": [
  {
   "cell_type": "code",
   "execution_count": 23,
   "metadata": {},
   "outputs": [
    {
     "name": "stdout",
     "output_type": "stream",
     "text": [
      "['A.J. Buckley', 'A.R. Rahman', 'Aamir Khan', 'LEE', 'Lai', 'alan walker', 'alex', 'trump']\n"
     ]
    }
   ],
   "source": [
    "import pickle\n",
    "f= open('model/svm/lfw_svm_classifier.pkl','rb')\n",
    "data=pickle.load(f)\n",
    "print(data[1])"
   ]
  },
  {
   "cell_type": "code",
   "execution_count": 26,
   "metadata": {},
   "outputs": [
    {
     "name": "stdout",
     "output_type": "stream",
     "text": [
      "['A.R. Rahman', 'Aamir Khan', 'LEE', 'Lai', 'alan walker', 'alex', 'trump']\n"
     ]
    }
   ],
   "source": [
    "haha = data[1]\n",
    "wow = 'A.J. Buckley'\n",
    "if wow in haha:\n",
    "    haha.remove(wow)\n",
    "    print(haha)\n",
    "else:\n",
    "    print(\"no change\")\n",
    "\n"
   ]
  },
  {
   "cell_type": "code",
   "execution_count": null,
   "metadata": {},
   "outputs": [],
   "source": []
  }
 ],
 "metadata": {
  "kernelspec": {
   "display_name": "Python 3",
   "language": "python",
   "name": "python3"
  },
  "language_info": {
   "codemirror_mode": {
    "name": "ipython",
    "version": 3
   },
   "file_extension": ".py",
   "mimetype": "text/x-python",
   "name": "python",
   "nbconvert_exporter": "python",
   "pygments_lexer": "ipython3",
   "version": "3.7.9"
  }
 },
 "nbformat": 4,
 "nbformat_minor": 4
}
